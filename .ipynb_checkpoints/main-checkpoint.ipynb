{
 "cells": [
  {
   "cell_type": "code",
   "execution_count": 1,
   "metadata": {},
   "outputs": [
    {
     "name": "stderr",
     "output_type": "stream",
     "text": [
      "/home/labadier/.local/lib/python3.10/site-packages/torchvision/io/image.py:13: UserWarning: Failed to load image Python extension: libtorch_cuda_cu.so: cannot open shared object file: No such file or directory\n",
      "  warn(f\"Failed to load image Python extension: {e}\")\n"
     ]
    },
    {
     "name": "stdout",
     "output_type": "stream",
     "text": [
      "Train data shape:  (791, 250, 250, 3)\n"
     ]
    }
   ],
   "source": [
    "import numpy as np, os, argparse, sys\n",
    "from pathlib import Path\n",
    "from utils import params, makeDataLoader, plot_training, plot_lr\n",
    "import torch, random\n",
    "\n",
    "from model import train_model\n",
    "\n",
    "\n",
    "torch.manual_seed(0)\n",
    "random.seed(0)\n",
    "np.random.seed(0)\n",
    "\n",
    "def load_data():\n",
    "\n",
    "    data_train = {'label': np.load('data/y_train.npy')-1, 'imgs': np.load('data/x_train.npy')}\n",
    "    data_test = {'label': np.load('data/y_test.npy')-1, 'imgs': np.load('data/x_test.npy')}\n",
    "\n",
    "    print('Train data shape: ', data_train['imgs'].shape)\n",
    "    return data_train, data_test\n",
    "\n",
    "ep = params.ep\n",
    "bs = params.bs\n",
    "upper_lr = params.upper_lr\n",
    "lower_lr = params.lower_lr\n",
    "plane_lr = params.plane_lr\n",
    "\n",
    "output = params.output\n",
    "\n",
    "if not Path('data/x_train.npy').exists():\n",
    "    os.system('wget -q https://www.dropbox.com/s/sakfqp6o8pbgasm/data.tgz')\n",
    "    os.system('tar xvzf data.tgz; rm *.tgz; rm ._*; mkdir data; mv *.npy data')\n",
    "    \n",
    "data_train, data_test = load_data()\n",
    "\n",
    "trainloader, devloader = makeDataLoader(crop_size=250, data_train=data_train, data_test=data_test, batch_size=bs)\n",
    "\n",
    "if not Path(output).exists():\n",
    "    os.mkdir(output)"
   ]
  },
  {
   "cell_type": "code",
   "execution_count": null,
   "metadata": {},
   "outputs": [
    {
     "name": "stdout",
     "output_type": "stream",
     "text": [
      "Change on epoch 25\n"
     ]
    }
   ],
   "source": [
    "history, model, lr_history = train_model(trainloader, devloader, epoches = ep, batch_size = bs, \n",
    "                                lower_lr= lower_lr, upper_lr=upper_lr, output=os.path.join(output, 'best_model'))\n",
    "plot_training(history, output)"
   ]
  },
  {
   "cell_type": "code",
   "execution_count": null,
   "metadata": {},
   "outputs": [],
   "source": [
    "plot_lr(lr_history, output)"
   ]
  },
  {
   "cell_type": "code",
   "execution_count": null,
   "metadata": {},
   "outputs": [],
   "source": []
  }
 ],
 "metadata": {
  "kernelspec": {
   "display_name": "Python 3 (ipykernel)",
   "language": "python",
   "name": "python3"
  },
  "language_info": {
   "codemirror_mode": {
    "name": "ipython",
    "version": 3
   },
   "file_extension": ".py",
   "mimetype": "text/x-python",
   "name": "python",
   "nbconvert_exporter": "python",
   "pygments_lexer": "ipython3",
   "version": "3.10.10"
  },
  "vscode": {
   "interpreter": {
    "hash": "e7370f93d1d0cde622a1f8e1c04877d8463912d04d973331ad4851f04de6915a"
   }
  }
 },
 "nbformat": 4,
 "nbformat_minor": 2
}
