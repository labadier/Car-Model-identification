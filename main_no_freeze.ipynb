{
 "cells": [
  {
   "cell_type": "code",
   "execution_count": 5,
   "metadata": {
    "execution": {
     "iopub.execute_input": "2023-04-14T10:00:56.417201Z",
     "iopub.status.busy": "2023-04-14T10:00:56.416836Z",
     "iopub.status.idle": "2023-04-14T10:01:03.068645Z",
     "shell.execute_reply": "2023-04-14T10:01:03.067407Z",
     "shell.execute_reply.started": "2023-04-14T10:00:56.417169Z"
    }
   },
   "outputs": [
    {
     "name": "stdout",
     "output_type": "stream",
     "text": [
      "./._x_test.npy\n",
      "x_test.npy\n",
      "./._x_train.npy\n",
      "x_train.npy\n",
      "./._y_test.npy\n",
      "y_test.npy\n",
      "./._y_train.npy\n",
      "y_train.npy\n",
      "Train data shape:  (791, 250, 250, 3)\n"
     ]
    }
   ],
   "source": [
    "import numpy as np, os, argparse, sys\n",
    "from pathlib import Path\n",
    "from utils import params, makeDataLoader, plot_training, plot_lr\n",
    "import torch, random\n",
    "\n",
    "from model import train_model\n",
    "\n",
    "\n",
    "torch.manual_seed(0)\n",
    "random.seed(0)\n",
    "np.random.seed(0)\n",
    "\n",
    "def load_data():\n",
    "\n",
    "    data_train = {'label': np.load('data/y_train.npy')-1, 'imgs': np.load('data/x_train.npy')}\n",
    "    data_test = {'label': np.load('data/y_test.npy')-1, 'imgs': np.load('data/x_test.npy')}\n",
    "\n",
    "    print('Train data shape: ', data_train['imgs'].shape)\n",
    "    return data_train, data_test\n",
    "\n",
    "ep = params.ep\n",
    "bs = params.bs\n",
    "upper_lr = params.upper_lr\n",
    "lower_lr = params.lower_lr\n",
    "plane_lr = params.plane_lr\n",
    "\n",
    "output = params.output\n",
    "\n",
    "if not Path('data/x_train.npy').exists():\n",
    "    os.system('wget -q https://www.dropbox.com/s/sakfqp6o8pbgasm/data.tgz')\n",
    "    os.system('tar xvzf data.tgz; rm *.tgz; rm ._*; mkdir data; mv *.npy data')\n",
    "    \n",
    "data_train, data_test = load_data()\n",
    "\n",
    "trainloader, devloader = makeDataLoader(crop_size=250, data_train=data_train, data_test=data_test, batch_size=bs)\n",
    "\n",
    "if not Path(output).exists():\n",
    "    os.mkdir(output)"
   ]
  },
  {
   "cell_type": "code",
   "execution_count": 6,
   "metadata": {
    "execution": {
     "iopub.execute_input": "2023-04-14T10:01:03.070969Z",
     "iopub.status.busy": "2023-04-14T10:01:03.070683Z",
     "iopub.status.idle": "2023-04-14T10:16:41.884429Z",
     "shell.execute_reply": "2023-04-14T10:16:41.883231Z",
     "shell.execute_reply.started": "2023-04-14T10:01:03.070940Z"
    }
   },
   "outputs": [
    {
     "name": "stdout",
     "output_type": "stream",
     "text": [
      "Change on epoch 25\n"
     ]
    },
    {
     "name": "stderr",
     "output_type": "stream",
     "text": [
      "Downloading: \"https://github.com/rwightman/pytorch-image-models/releases/download/v0.1-weights/densenet121_ra-50efcf5c.pth\" to /root/.cache/torch/hub/checkpoints/densenet121_ra-50efcf5c.pth\n"
     ]
    },
    {
     "name": "stdout",
     "output_type": "stream",
     "text": [
      "Total number of parameters:  27925396\n"
     ]
    },
    {
     "name": "stderr",
     "output_type": "stream",
     "text": [
      "Epoch:   0: : 25it [00:23,  1.06it/s, loss:2.982 f1:0.065 error:0.882 dev_loss: 2.993 f1_dev:0.005 dev_error:0.948]\n",
      "Epoch:   1: : 25it [00:18,  1.34it/s, loss:2.898 f1:0.309 error:0.631 dev_loss: 2.983 f1_dev:0.037 dev_error:0.915]\n",
      "Epoch:   2: : 25it [00:18,  1.36it/s, loss:2.753 f1:0.401 error:0.518 dev_loss: 2.818 f1_dev:0.177 dev_error:0.761]\n",
      "Epoch:   3: : 25it [00:18,  1.34it/s, loss:2.544 f1:0.430 error:0.501 dev_loss: 2.453 f1_dev:0.301 dev_error:0.622]\n",
      "Epoch:   4: : 25it [00:18,  1.35it/s, loss:2.288 f1:0.474 error:0.464 dev_loss: 2.114 f1_dev:0.373 dev_error:0.560]\n",
      "Epoch:   5: : 25it [00:18,  1.34it/s, loss:2.031 f1:0.551 error:0.394 dev_loss: 1.850 f1_dev:0.479 dev_error:0.471]\n",
      "Epoch:   6: : 25it [00:18,  1.35it/s, loss:1.802 f1:0.591 error:0.354 dev_loss: 1.645 f1_dev:0.507 dev_error:0.441]\n",
      "Epoch:   7: : 25it [00:18,  1.36it/s, loss:1.583 f1:0.677 error:0.273 dev_loss: 1.464 f1_dev:0.582 dev_error:0.365]\n",
      "Epoch:   8: : 25it [00:18,  1.34it/s, loss:1.394 f1:0.710 error:0.243 dev_loss: 1.319 f1_dev:0.622 dev_error:0.335]\n",
      "Epoch:   9: : 25it [00:18,  1.35it/s, loss:1.226 f1:0.765 error:0.204 dev_loss: 1.195 f1_dev:0.657 dev_error:0.307]\n",
      "Epoch:  10: : 25it [00:18,  1.35it/s, loss:1.050 f1:0.817 error:0.155 dev_loss: 1.090 f1_dev:0.680 dev_error:0.291]\n",
      "Epoch:  11: : 25it [00:18,  1.35it/s, loss:0.910 f1:0.835 error:0.140 dev_loss: 0.987 f1_dev:0.693 dev_error:0.283]\n",
      "Epoch:  12: : 25it [00:18,  1.36it/s, loss:0.787 f1:0.883 error:0.104 dev_loss: 0.896 f1_dev:0.740 dev_error:0.246]\n",
      "Epoch:  13: : 25it [00:18,  1.35it/s, loss:0.684 f1:0.906 error:0.081 dev_loss: 0.868 f1_dev:0.727 dev_error:0.260]\n",
      "Epoch:  14: : 25it [00:18,  1.36it/s, loss:0.586 f1:0.935 error:0.063 dev_loss: 0.802 f1_dev:0.759 dev_error:0.239]\n",
      "Epoch:  15: : 25it [00:18,  1.35it/s, loss:0.494 f1:0.948 error:0.049 dev_loss: 0.737 f1_dev:0.780 dev_error:0.218]\n",
      "Epoch:  16: : 25it [00:18,  1.35it/s, loss:0.414 f1:0.971 error:0.028 dev_loss: 0.728 f1_dev:0.775 dev_error:0.226]\n",
      "Epoch:  17: : 25it [00:18,  1.35it/s, loss:0.359 f1:0.966 error:0.033 dev_loss: 0.692 f1_dev:0.794 dev_error:0.209]\n",
      "Epoch:  18: : 25it [00:18,  1.33it/s, loss:0.312 f1:0.977 error:0.023 dev_loss: 0.669 f1_dev:0.793 dev_error:0.208]\n",
      "Epoch:  19: : 25it [00:18,  1.35it/s, loss:0.266 f1:0.985 error:0.015 dev_loss: 0.685 f1_dev:0.789 dev_error:0.212]\n",
      "Epoch:  20: : 25it [00:18,  1.35it/s, loss:0.223 f1:0.988 error:0.011 dev_loss: 0.692 f1_dev:0.786 dev_error:0.218]\n",
      "Epoch:  21: : 25it [00:18,  1.32it/s, loss:0.196 f1:0.986 error:0.014 dev_loss: 0.657 f1_dev:0.804 dev_error:0.199]\n",
      "Epoch:  22: : 25it [00:18,  1.34it/s, loss:0.169 f1:0.991 error:0.009 dev_loss: 0.643 f1_dev:0.798 dev_error:0.205]\n",
      "Epoch:  23: : 25it [00:18,  1.34it/s, loss:0.143 f1:0.992 error:0.008 dev_loss: 0.670 f1_dev:0.802 dev_error:0.200]\n",
      "Epoch:  24: : 25it [00:18,  1.36it/s, loss:0.128 f1:0.994 error:0.006 dev_loss: 0.672 f1_dev:0.793 dev_error:0.209]\n",
      "Epoch:  25: : 25it [00:18,  1.34it/s, loss:0.110 f1:0.997 error:0.003 dev_loss: 0.654 f1_dev:0.805 dev_error:0.198]\n",
      "Epoch:  26: : 25it [00:18,  1.34it/s, loss:0.102 f1:0.993 error:0.006 dev_loss: 0.675 f1_dev:0.794 dev_error:0.208]\n",
      "Epoch:  27: : 25it [00:18,  1.33it/s, loss:0.104 f1:0.991 error:0.009 dev_loss: 0.718 f1_dev:0.786 dev_error:0.217]\n",
      "Epoch:  28: : 25it [00:18,  1.35it/s, loss:0.092 f1:0.992 error:0.008 dev_loss: 0.695 f1_dev:0.798 dev_error:0.204]\n",
      "Epoch:  29: : 25it [00:18,  1.35it/s, loss:0.079 f1:0.995 error:0.005 dev_loss: 0.750 f1_dev:0.786 dev_error:0.216]\n",
      "Epoch:  30: : 25it [00:18,  1.34it/s, loss:0.070 f1:0.996 error:0.004 dev_loss: 0.703 f1_dev:0.800 dev_error:0.203]\n",
      "Epoch:  31: : 25it [00:18,  1.35it/s, loss:0.074 f1:0.992 error:0.008 dev_loss: 0.675 f1_dev:0.811 dev_error:0.191]\n",
      "Epoch:  32: : 25it [00:18,  1.34it/s, loss:0.067 f1:0.992 error:0.008 dev_loss: 0.693 f1_dev:0.809 dev_error:0.193]\n",
      "Epoch:  33: : 25it [00:18,  1.35it/s, loss:0.060 f1:0.995 error:0.005 dev_loss: 0.731 f1_dev:0.791 dev_error:0.209]\n",
      "Epoch:  34: : 25it [00:18,  1.33it/s, loss:0.052 f1:0.997 error:0.003 dev_loss: 0.701 f1_dev:0.815 dev_error:0.185]\n",
      "Epoch:  35: : 25it [00:18,  1.33it/s, loss:0.054 f1:0.995 error:0.005 dev_loss: 0.723 f1_dev:0.810 dev_error:0.190]\n",
      "Epoch:  36: : 25it [00:18,  1.35it/s, loss:0.046 f1:0.996 error:0.004 dev_loss: 0.731 f1_dev:0.805 dev_error:0.196]\n",
      "Epoch:  37: : 25it [00:18,  1.34it/s, loss:0.048 f1:0.996 error:0.004 dev_loss: 0.715 f1_dev:0.805 dev_error:0.198]\n",
      "Epoch:  38: : 25it [00:18,  1.35it/s, loss:0.042 f1:0.995 error:0.005 dev_loss: 0.746 f1_dev:0.804 dev_error:0.199]\n",
      "Epoch:  39: : 25it [00:18,  1.35it/s, loss:0.042 f1:0.993 error:0.006 dev_loss: 0.760 f1_dev:0.803 dev_error:0.198]\n",
      "Epoch:  40: : 25it [00:18,  1.34it/s, loss:0.043 f1:0.993 error:0.006 dev_loss: 0.755 f1_dev:0.801 dev_error:0.200]\n",
      "Epoch:  41: : 25it [00:18,  1.35it/s, loss:0.047 f1:0.992 error:0.008 dev_loss: 0.761 f1_dev:0.799 dev_error:0.204]\n",
      "Epoch:  42: : 25it [00:18,  1.34it/s, loss:0.038 f1:0.996 error:0.004 dev_loss: 0.769 f1_dev:0.799 dev_error:0.202]\n",
      "Epoch:  43: : 25it [00:18,  1.34it/s, loss:0.041 f1:0.991 error:0.009 dev_loss: 0.822 f1_dev:0.783 dev_error:0.218]\n",
      "Epoch:  44: : 25it [00:18,  1.36it/s, loss:0.031 f1:0.996 error:0.004 dev_loss: 0.784 f1_dev:0.793 dev_error:0.208]\n",
      "Epoch:  45: : 25it [00:18,  1.34it/s, loss:0.040 f1:0.993 error:0.006 dev_loss: 0.904 f1_dev:0.768 dev_error:0.235]\n",
      "Epoch:  46: : 25it [00:18,  1.34it/s, loss:0.041 f1:0.993 error:0.006 dev_loss: 0.875 f1_dev:0.781 dev_error:0.222]\n",
      "Epoch:  47: : 25it [00:18,  1.34it/s, loss:0.037 f1:0.994 error:0.006 dev_loss: 0.857 f1_dev:0.783 dev_error:0.219]\n",
      "Epoch:  48: : 25it [00:18,  1.35it/s, loss:0.032 f1:0.993 error:0.006 dev_loss: 0.828 f1_dev:0.788 dev_error:0.213]\n",
      "Epoch:  49: : 25it [00:18,  1.36it/s, loss:0.029 f1:0.995 error:0.005 dev_loss: 0.829 f1_dev:0.798 dev_error:0.204]\n"
     ]
    },
    {
     "data": {
      "image/png": "[encoded data removed]",
      "text/plain": [
       "<Figure size 640x480 with 1 Axes>"
      ]
     },
     "metadata": {},
     "output_type": "display_data"
    }
   ],
   "source": [
    "history, model, lr_history = train_model(trainloader, devloader, epoches = ep, batch_size = bs, \n",
    "                                lower_lr= lower_lr, upper_lr=upper_lr, output=os.path.join(output, 'best_model'), freeze_at=-1)\n",
    "plot_training(history, output)"
   ]
  },
  {
   "cell_type": "code",
   "execution_count": 7,
   "metadata": {
    "execution": {
     "iopub.execute_input": "2023-04-14T10:16:41.886798Z",
     "iopub.status.busy": "2023-04-14T10:16:41.886154Z",
     "iopub.status.idle": "2023-04-14T10:16:41.895107Z",
     "shell.execute_reply": "2023-04-14T10:16:41.893124Z",
     "shell.execute_reply.started": "2023-04-14T10:16:41.886749Z"
    }
   },
   "outputs": [
    {
     "name": "stdout",
     "output_type": "stream",
     "text": [
      "Model Checkpoint saved at epoch 34 with accuracy 0.815\n"
     ]
    }
   ],
   "source": [
    "index = np.argmin(history['dev_error'])\n",
    "print(f'Model Checkpoint saved at epoch {index} with accuracy {1 - history[\"dev_error\"][index]:.3f}')"
   ]
  },
  {
   "cell_type": "code",
   "execution_count": 8,
   "metadata": {
    "execution": {
     "iopub.execute_input": "2023-04-14T10:16:41.903498Z",
     "iopub.status.busy": "2023-04-14T10:16:41.900977Z",
     "iopub.status.idle": "2023-04-14T10:16:42.152985Z",
     "shell.execute_reply": "2023-04-14T10:16:42.152033Z",
     "shell.execute_reply.started": "2023-04-14T10:16:41.903322Z"
    }
   },
   "outputs": [
    {
     "data": {
      "image/png": "[encoded data removed]",
      "text/plain": [
       "<Figure size 640x480 with 1 Axes>"
      ]
     },
     "metadata": {},
     "output_type": "display_data"
    }
   ],
   "source": [
    "from matplotlib import pyplot as plt\n",
    "def plot_lr(lr_history):\n",
    "  \n",
    "    plt.plot(lr_history)\n",
    "    plt.legend(['lr'], loc='upper left')\n",
    "    plt.ylabel('lr')\n",
    "    plt.xlabel('Epoch')\n",
    "    plt.savefig(os.path.join(output, f'lr_history.png'))\n",
    "\n",
    "plot_lr(lr_history)"
   ]
  },
  {
   "cell_type": "code",
   "execution_count": 9,
   "metadata": {
    "execution": {
     "iopub.execute_input": "2023-04-14T10:16:42.155997Z",
     "iopub.status.busy": "2023-04-14T10:16:42.154844Z",
     "iopub.status.idle": "2023-04-14T10:16:42.163715Z",
     "shell.execute_reply": "2023-04-14T10:16:42.162676Z",
     "shell.execute_reply.started": "2023-04-14T10:16:42.155956Z"
    }
   },
   "outputs": [
    {
     "data": {
      "text/plain": [
       "0.0001"
      ]
     },
     "execution_count": 9,
     "metadata": {},
     "output_type": "execute_result"
    }
   ],
   "source": [
    "max(lr_history[900:])"
   ]
  },
  {
   "cell_type": "code",
   "execution_count": null,
   "metadata": {},
   "outputs": [],
   "source": []
  },
  {
   "cell_type": "code",
   "execution_count": null,
   "metadata": {},
   "outputs": [],
   "source": []
  }
 ],
 "metadata": {
  "kernelspec": {
   "display_name": "Python 3 (ipykernel)",
   "language": "python",
   "name": "python3"
  },
  "language_info": {
   "codemirror_mode": {
    "name": "ipython",
    "version": 3
   },
   "file_extension": ".py",
   "mimetype": "text/x-python",
   "name": "python",
   "nbconvert_exporter": "python",
   "pygments_lexer": "ipython3",
   "version": "3.10.10"
  }
 },
 "nbformat": 4,
 "nbformat_minor": 4
}
