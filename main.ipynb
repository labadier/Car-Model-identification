{
 "cells": [
  {
   "cell_type": "code",
   "execution_count": 1,
   "metadata": {},
   "outputs": [
    {
     "name": "stdout",
     "output_type": "stream",
     "text": [
      "Train data shape:  (791, 250, 250, 3)\n"
     ]
    }
   ],
   "source": [
    "import numpy as np, os, argparse, sys\n",
    "from torchsummary import summary\n",
    "from pathlib import Path\n",
    "import torch, random\n",
    "\n",
    "from utils import makeDataLoader, params, plot_training\n",
    "from model import train_model\n",
    "\n",
    "torch.manual_seed(0)\n",
    "random.seed(0)\n",
    "np.random.seed(0)\n",
    "\n",
    "def load_data():\n",
    "\n",
    "    data_train = {'label': np.load('data/y_train.npy'), 'imgs': np.load('data/x_train.npy')}\n",
    "    data_test = {'label': np.load('data/y_test.npy'), 'imgs': np.load('data/x_test.npy')}\n",
    "\n",
    "    print('Train data shape: ', data_train['imgs'].shape)\n",
    "    return data_train, data_test\n",
    "\n",
    "ep = params.ep\n",
    "bs = params.bs\n",
    "upper_lr = params.upper_lr\n",
    "lower_lr = params.lower_lr\n",
    "\n",
    "output = params.output\n",
    "\n",
    "if not Path('data/x_train.npy').exists():\n",
    "    os.system('wget https://www.dropbox.com/s/sakfqp6o8pbgasm/data.tgz')\n",
    "    os.system('tar xvzf data.tgz; rm *.tgz; rm ._*; mkdir data; mv *.npy data')\n",
    "    \n",
    "data_train, data_test = load_data()\n",
    "\n",
    "trainloader, devloader = makeDataLoader(crop_size=80, data_train=data_train, data_test=data_test, batch_size=bs)\n",
    "\n",
    "if not Path(output).exists():\n",
    "    os.mkdir(output)"
   ]
  },
  {
   "cell_type": "code",
   "execution_count": 2,
   "metadata": {},
   "outputs": [
    {
     "name": "stdout",
     "output_type": "stream",
     "text": [
      "Total number of parameters:  12486066\n"
     ]
    },
    {
     "name": "stderr",
     "output_type": "stream",
     "text": [
      "Epoch:   0: : 0it [00:01, ?it/s]"
     ]
    },
    {
     "name": "stdout",
     "output_type": "stream",
     "text": [
      "torch.Size([64, 1664, 2, 2])\n",
      "score torch.Size([64, 4])\n"
     ]
    },
    {
     "name": "stderr",
     "output_type": "stream",
     "text": [
      "\n"
     ]
    },
    {
     "ename": "UnboundLocalError",
     "evalue": "local variable 'y_hat' referenced before assignment",
     "output_type": "error",
     "traceback": [
      "\u001b[0;31m---------------------------------------------------------------------------\u001b[0m",
      "\u001b[0;31mUnboundLocalError\u001b[0m                         Traceback (most recent call last)",
      "Cell \u001b[0;32mIn [2], line 1\u001b[0m\n\u001b[0;32m----> 1\u001b[0m history, model \u001b[39m=\u001b[39m train_model(trainloader, devloader, epoches \u001b[39m=\u001b[39;49m ep, batch_size \u001b[39m=\u001b[39;49m bs, \n\u001b[1;32m      2\u001b[0m                                 lower_lr\u001b[39m=\u001b[39;49m lower_lr, upper_lr\u001b[39m=\u001b[39;49mupper_lr, output\u001b[39m=\u001b[39;49mos\u001b[39m.\u001b[39;49mpath\u001b[39m.\u001b[39;49mjoin(output, \u001b[39m'\u001b[39;49m\u001b[39mbest_model\u001b[39;49m\u001b[39m'\u001b[39;49m))\n\u001b[1;32m      3\u001b[0m plot_training(history, output)\n",
      "File \u001b[0;32m~/projects/UPV/CV/Car Model identification/model.py:104\u001b[0m, in \u001b[0;36mtrain_model\u001b[0;34m(trainloader, devloader, epoches, batch_size, output, lower_lr, upper_lr)\u001b[0m\n\u001b[1;32m    101\u001b[0m torch\u001b[39m.\u001b[39mcuda\u001b[39m.\u001b[39mempty_cache()         \n\u001b[1;32m    102\u001b[0m inputs, labels \u001b[39m=\u001b[39m data_batch[\u001b[39m'\u001b[39m\u001b[39mimgs\u001b[39m\u001b[39m'\u001b[39m], data_batch[\u001b[39m'\u001b[39m\u001b[39mlabel\u001b[39m\u001b[39m'\u001b[39m]\n\u001b[0;32m--> 104\u001b[0m outputs \u001b[39m=\u001b[39m model(inputs\u001b[39m.\u001b[39;49mto(model\u001b[39m.\u001b[39;49mdevice))\n\u001b[1;32m    105\u001b[0m loss \u001b[39m=\u001b[39m model\u001b[39m.\u001b[39mloss_criterion(outputs, labels\u001b[39m.\u001b[39mtype(torch\u001b[39m.\u001b[39mLongTensor)\u001b[39m.\u001b[39mto(model\u001b[39m.\u001b[39mdevice))\n\u001b[1;32m    107\u001b[0m loss\u001b[39m.\u001b[39mbackward()\n",
      "File \u001b[0;32m~/.local/lib/python3.10/site-packages/torch/nn/modules/module.py:1190\u001b[0m, in \u001b[0;36mModule._call_impl\u001b[0;34m(self, *input, **kwargs)\u001b[0m\n\u001b[1;32m   1186\u001b[0m \u001b[39m# If we don't have any hooks, we want to skip the rest of the logic in\u001b[39;00m\n\u001b[1;32m   1187\u001b[0m \u001b[39m# this function, and just call forward.\u001b[39;00m\n\u001b[1;32m   1188\u001b[0m \u001b[39mif\u001b[39;00m \u001b[39mnot\u001b[39;00m (\u001b[39mself\u001b[39m\u001b[39m.\u001b[39m_backward_hooks \u001b[39mor\u001b[39;00m \u001b[39mself\u001b[39m\u001b[39m.\u001b[39m_forward_hooks \u001b[39mor\u001b[39;00m \u001b[39mself\u001b[39m\u001b[39m.\u001b[39m_forward_pre_hooks \u001b[39mor\u001b[39;00m _global_backward_hooks\n\u001b[1;32m   1189\u001b[0m         \u001b[39mor\u001b[39;00m _global_forward_hooks \u001b[39mor\u001b[39;00m _global_forward_pre_hooks):\n\u001b[0;32m-> 1190\u001b[0m     \u001b[39mreturn\u001b[39;00m forward_call(\u001b[39m*\u001b[39;49m\u001b[39minput\u001b[39;49m, \u001b[39m*\u001b[39;49m\u001b[39m*\u001b[39;49mkwargs)\n\u001b[1;32m   1191\u001b[0m \u001b[39m# Do not call functions when jit is used\u001b[39;00m\n\u001b[1;32m   1192\u001b[0m full_backward_hooks, non_full_backward_hooks \u001b[39m=\u001b[39m [], []\n",
      "File \u001b[0;32m~/projects/UPV/CV/Car Model identification/model.py:39\u001b[0m, in \u001b[0;36mDensenet169.forward\u001b[0;34m(self, x)\u001b[0m\n\u001b[1;32m     36\u001b[0m score \u001b[39m=\u001b[39m torch\u001b[39m.\u001b[39mnn\u001b[39m.\u001b[39mfunctional\u001b[39m.\u001b[39mnormalize(score)\n\u001b[1;32m     38\u001b[0m \u001b[39mprint\u001b[39m(\u001b[39m'\u001b[39m\u001b[39mscore\u001b[39m\u001b[39m'\u001b[39m, score\u001b[39m.\u001b[39mshape)\n\u001b[0;32m---> 39\u001b[0m y_hat \u001b[39m=\u001b[39m \u001b[39mself\u001b[39m\u001b[39m.\u001b[39mclassifier(y_hat)\n\u001b[1;32m     41\u001b[0m \u001b[39mreturn\u001b[39;00m y_hat\n",
      "\u001b[0;31mUnboundLocalError\u001b[0m: local variable 'y_hat' referenced before assignment"
     ]
    }
   ],
   "source": [
    "history, model = train_model(trainloader, devloader, epoches = ep, batch_size = bs, \n",
    "                                lower_lr= lower_lr, upper_lr=upper_lr, output=os.path.join(output, 'best_model'))\n",
    "plot_training(history, output)"
   ]
  },
  {
   "cell_type": "code",
   "execution_count": null,
   "metadata": {},
   "outputs": [],
   "source": []
  }
 ],
 "metadata": {
  "kernelspec": {
   "display_name": "Python 3.10.8 64-bit",
   "language": "python",
   "name": "python3"
  },
  "language_info": {
   "codemirror_mode": {
    "name": "ipython",
    "version": 3
   },
   "file_extension": ".py",
   "mimetype": "text/x-python",
   "name": "python",
   "nbconvert_exporter": "python",
   "pygments_lexer": "ipython3",
   "version": "3.10.8"
  },
  "orig_nbformat": 4,
  "vscode": {
   "interpreter": {
    "hash": "e7370f93d1d0cde622a1f8e1c04877d8463912d04d973331ad4851f04de6915a"
   }
  }
 },
 "nbformat": 4,
 "nbformat_minor": 2
}
